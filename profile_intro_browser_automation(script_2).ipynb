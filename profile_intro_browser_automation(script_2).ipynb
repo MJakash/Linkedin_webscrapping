{
 "cells": [
  {
   "cell_type": "markdown",
   "metadata": {},
   "source": [
    "## Profile Scraper\n",
    "### Requirements loading\n"
   ]
  },
  {
   "cell_type": "code",
   "execution_count": 1,
   "metadata": {},
   "outputs": [],
   "source": [
    "import os\n",
    "import csv\n",
    "from time import sleep\n",
    "from selenium import webdriver\n",
    "from selenium.webdriver.common.by import By\n",
    "from bs4 import BeautifulSoup\n",
    "from selenium.common.exceptions import NoSuchElementException\n",
    "from dotenv import load_dotenv"
   ]
  },
  {
   "cell_type": "markdown",
   "metadata": {},
   "source": [
    "### Load Environment Variables"
   ]
  },
  {
   "cell_type": "code",
   "execution_count": 2,
   "metadata": {},
   "outputs": [],
   "source": [
    "# Set up environment variables for email and password using dotenv\n",
    "EMAIL = os.getenv('EMAIL')\n",
    "PASSWORD = os.getenv('PASSWORD')"
   ]
  },
  {
   "cell_type": "markdown",
   "metadata": {},
   "source": [
    "### Initialize the Browser Driver\n"
   ]
  },
  {
   "cell_type": "code",
   "execution_count": 3,
   "metadata": {},
   "outputs": [],
   "source": [
    "# Set up the Chrome WebDriver to automate browser actions\n",
    "driver = webdriver.Chrome()\n"
   ]
  },
  {
   "cell_type": "markdown",
   "metadata": {},
   "source": [
    "### Open LinkedIn Login Page"
   ]
  },
  {
   "cell_type": "code",
   "execution_count": 4,
   "metadata": {},
   "outputs": [],
   "source": [
    "# Navigate to LinkedIn's login page and wait for the page to load\n",
    "driver.get('https://www.linkedin.com/login')\n",
    "sleep(2)"
   ]
  },
  {
   "cell_type": "markdown",
   "metadata": {},
   "source": [
    "### Login to LinkedIn"
   ]
  },
  {
   "cell_type": "code",
   "execution_count": 5,
   "metadata": {},
   "outputs": [],
   "source": [
    "# Find and fill the email and password fields, then submit the login form\n",
    "email_field = driver.find_element(By.ID, 'username')\n",
    "email_field.send_keys(EMAIL)\n",
    "\n",
    "password_field = driver.find_element(By.ID, 'password')\n",
    "password_field.send_keys(PASSWORD)\n",
    "\n",
    "# Submit the login form\n",
    "password_field.submit()\n",
    "sleep(3)"
   ]
  },
  {
   "cell_type": "markdown",
   "metadata": {},
   "source": [
    "### Take Input for Search Query"
   ]
  },
  {
   "cell_type": "code",
   "execution_count": 6,
   "metadata": {},
   "outputs": [],
   "source": [
    "# Take the input for search query (first name and last name)\n",
    "first_name = input(\"Enter first name: \")\n",
    "last_name = input(\"Enter last name: \")\n",
    "\n"
   ]
  },
  {
   "cell_type": "markdown",
   "metadata": {},
   "source": [
    "### Navigate to LinkedIn Search Page"
   ]
  },
  {
   "cell_type": "code",
   "execution_count": 7,
   "metadata": {},
   "outputs": [
    {
     "ename": "NoSuchWindowException",
     "evalue": "Message: no such window: target window already closed\nfrom unknown error: web view not found\n  (Session info: chrome=132.0.6834.84)\nStacktrace:\n\tGetHandleVerifier [0x00007FF67698CC05+28741]\n\t(No symbol) [0x00007FF6768EFED0]\n\t(No symbol) [0x00007FF676784FBA]\n\t(No symbol) [0x00007FF67675ED55]\n\t(No symbol) [0x00007FF676806DE7]\n\t(No symbol) [0x00007FF67681F8B2]\n\t(No symbol) [0x00007FF6767FFBD3]\n\t(No symbol) [0x00007FF6767C9F43]\n\t(No symbol) [0x00007FF6767CB2D1]\n\tGetHandleVerifier [0x00007FF676CBDE3D+3375741]\n\tGetHandleVerifier [0x00007FF676CD096A+3452330]\n\tGetHandleVerifier [0x00007FF676CC671D+3410781]\n\tGetHandleVerifier [0x00007FF676A5653B+854395]\n\t(No symbol) [0x00007FF6768FBE0F]\n\t(No symbol) [0x00007FF6768F7714]\n\t(No symbol) [0x00007FF6768F78AD]\n\t(No symbol) [0x00007FF6768E6189]\n\tBaseThreadInitThunk [0x00007FFAB975E8D7+23]\n\tRtlUserThreadStart [0x00007FFABB31FBCC+44]\n",
     "output_type": "error",
     "traceback": [
      "\u001b[1;31m---------------------------------------------------------------------------\u001b[0m",
      "\u001b[1;31mNoSuchWindowException\u001b[0m                     Traceback (most recent call last)",
      "Cell \u001b[1;32mIn[7], line 3\u001b[0m\n\u001b[0;32m      1\u001b[0m \u001b[38;5;66;03m# Navigate to LinkedIn search page\u001b[39;00m\n\u001b[0;32m      2\u001b[0m search_url \u001b[38;5;241m=\u001b[39m \u001b[38;5;124mf\u001b[39m\u001b[38;5;124m\"\u001b[39m\u001b[38;5;124mhttps://www.linkedin.com/search/results/people/?keywords=\u001b[39m\u001b[38;5;132;01m{\u001b[39;00mfirst_name\u001b[38;5;132;01m}\u001b[39;00m\u001b[38;5;124m%20\u001b[39m\u001b[38;5;132;01m{\u001b[39;00mlast_name\u001b[38;5;132;01m}\u001b[39;00m\u001b[38;5;124m\"\u001b[39m\n\u001b[1;32m----> 3\u001b[0m \u001b[43mdriver\u001b[49m\u001b[38;5;241;43m.\u001b[39;49m\u001b[43mget\u001b[49m\u001b[43m(\u001b[49m\u001b[43msearch_url\u001b[49m\u001b[43m)\u001b[49m\n\u001b[0;32m      4\u001b[0m sleep(\u001b[38;5;241m3\u001b[39m)\n",
      "File \u001b[1;32mc:\\Users\\ASUS\\AppData\\Local\\Programs\\Python\\Python312\\Lib\\site-packages\\selenium\\webdriver\\remote\\webdriver.py:393\u001b[0m, in \u001b[0;36mWebDriver.get\u001b[1;34m(self, url)\u001b[0m\n\u001b[0;32m    391\u001b[0m \u001b[38;5;28;01mdef\u001b[39;00m \u001b[38;5;21mget\u001b[39m(\u001b[38;5;28mself\u001b[39m, url: \u001b[38;5;28mstr\u001b[39m) \u001b[38;5;241m-\u001b[39m\u001b[38;5;241m>\u001b[39m \u001b[38;5;28;01mNone\u001b[39;00m:\n\u001b[0;32m    392\u001b[0m \u001b[38;5;250m    \u001b[39m\u001b[38;5;124;03m\"\"\"Loads a web page in the current browser session.\"\"\"\u001b[39;00m\n\u001b[1;32m--> 393\u001b[0m     \u001b[38;5;28;43mself\u001b[39;49m\u001b[38;5;241;43m.\u001b[39;49m\u001b[43mexecute\u001b[49m\u001b[43m(\u001b[49m\u001b[43mCommand\u001b[49m\u001b[38;5;241;43m.\u001b[39;49m\u001b[43mGET\u001b[49m\u001b[43m,\u001b[49m\u001b[43m \u001b[49m\u001b[43m{\u001b[49m\u001b[38;5;124;43m\"\u001b[39;49m\u001b[38;5;124;43murl\u001b[39;49m\u001b[38;5;124;43m\"\u001b[39;49m\u001b[43m:\u001b[49m\u001b[43m \u001b[49m\u001b[43murl\u001b[49m\u001b[43m}\u001b[49m\u001b[43m)\u001b[49m\n",
      "File \u001b[1;32mc:\\Users\\ASUS\\AppData\\Local\\Programs\\Python\\Python312\\Lib\\site-packages\\selenium\\webdriver\\remote\\webdriver.py:384\u001b[0m, in \u001b[0;36mWebDriver.execute\u001b[1;34m(self, driver_command, params)\u001b[0m\n\u001b[0;32m    382\u001b[0m response \u001b[38;5;241m=\u001b[39m \u001b[38;5;28mself\u001b[39m\u001b[38;5;241m.\u001b[39mcommand_executor\u001b[38;5;241m.\u001b[39mexecute(driver_command, params)\n\u001b[0;32m    383\u001b[0m \u001b[38;5;28;01mif\u001b[39;00m response:\n\u001b[1;32m--> 384\u001b[0m     \u001b[38;5;28;43mself\u001b[39;49m\u001b[38;5;241;43m.\u001b[39;49m\u001b[43merror_handler\u001b[49m\u001b[38;5;241;43m.\u001b[39;49m\u001b[43mcheck_response\u001b[49m\u001b[43m(\u001b[49m\u001b[43mresponse\u001b[49m\u001b[43m)\u001b[49m\n\u001b[0;32m    385\u001b[0m     response[\u001b[38;5;124m\"\u001b[39m\u001b[38;5;124mvalue\u001b[39m\u001b[38;5;124m\"\u001b[39m] \u001b[38;5;241m=\u001b[39m \u001b[38;5;28mself\u001b[39m\u001b[38;5;241m.\u001b[39m_unwrap_value(response\u001b[38;5;241m.\u001b[39mget(\u001b[38;5;124m\"\u001b[39m\u001b[38;5;124mvalue\u001b[39m\u001b[38;5;124m\"\u001b[39m, \u001b[38;5;28;01mNone\u001b[39;00m))\n\u001b[0;32m    386\u001b[0m     \u001b[38;5;28;01mreturn\u001b[39;00m response\n",
      "File \u001b[1;32mc:\\Users\\ASUS\\AppData\\Local\\Programs\\Python\\Python312\\Lib\\site-packages\\selenium\\webdriver\\remote\\errorhandler.py:232\u001b[0m, in \u001b[0;36mErrorHandler.check_response\u001b[1;34m(self, response)\u001b[0m\n\u001b[0;32m    230\u001b[0m         alert_text \u001b[38;5;241m=\u001b[39m value[\u001b[38;5;124m\"\u001b[39m\u001b[38;5;124malert\u001b[39m\u001b[38;5;124m\"\u001b[39m]\u001b[38;5;241m.\u001b[39mget(\u001b[38;5;124m\"\u001b[39m\u001b[38;5;124mtext\u001b[39m\u001b[38;5;124m\"\u001b[39m)\n\u001b[0;32m    231\u001b[0m     \u001b[38;5;28;01mraise\u001b[39;00m exception_class(message, screen, stacktrace, alert_text)  \u001b[38;5;66;03m# type: ignore[call-arg]  # mypy is not smart enough here\u001b[39;00m\n\u001b[1;32m--> 232\u001b[0m \u001b[38;5;28;01mraise\u001b[39;00m exception_class(message, screen, stacktrace)\n",
      "\u001b[1;31mNoSuchWindowException\u001b[0m: Message: no such window: target window already closed\nfrom unknown error: web view not found\n  (Session info: chrome=132.0.6834.84)\nStacktrace:\n\tGetHandleVerifier [0x00007FF67698CC05+28741]\n\t(No symbol) [0x00007FF6768EFED0]\n\t(No symbol) [0x00007FF676784FBA]\n\t(No symbol) [0x00007FF67675ED55]\n\t(No symbol) [0x00007FF676806DE7]\n\t(No symbol) [0x00007FF67681F8B2]\n\t(No symbol) [0x00007FF6767FFBD3]\n\t(No symbol) [0x00007FF6767C9F43]\n\t(No symbol) [0x00007FF6767CB2D1]\n\tGetHandleVerifier [0x00007FF676CBDE3D+3375741]\n\tGetHandleVerifier [0x00007FF676CD096A+3452330]\n\tGetHandleVerifier [0x00007FF676CC671D+3410781]\n\tGetHandleVerifier [0x00007FF676A5653B+854395]\n\t(No symbol) [0x00007FF6768FBE0F]\n\t(No symbol) [0x00007FF6768F7714]\n\t(No symbol) [0x00007FF6768F78AD]\n\t(No symbol) [0x00007FF6768E6189]\n\tBaseThreadInitThunk [0x00007FFAB975E8D7+23]\n\tRtlUserThreadStart [0x00007FFABB31FBCC+44]\n"
     ]
    }
   ],
   "source": [
    "# Navigate to LinkedIn search page\n",
    "search_url = f\"https://www.linkedin.com/search/results/people/?keywords={first_name}%20{last_name}\"\n",
    "driver.get(search_url)\n",
    "sleep(3)\n"
   ]
  },
  {
   "cell_type": "markdown",
   "metadata": {},
   "source": [
    "### Extract Profile Data"
   ]
  },
  {
   "cell_type": "code",
   "execution_count": 8,
   "metadata": {},
   "outputs": [],
   "source": [
    "# Initialize an empty list to store extracted profile data\n",
    "profile_data = []\n",
    "\n",
    "# Identify and loop through search result profiles\n",
    "profiles = driver.find_elements(By.XPATH, \".//ul[contains(@class, 'list-style-none')]/li\")  # Target 'li' elements"
   ]
  },
  {
   "cell_type": "markdown",
   "metadata": {},
   "source": [
    "### Loop Through Profiles and Extract Details"
   ]
  },
  {
   "cell_type": "code",
   "execution_count": 10,
   "metadata": {},
   "outputs": [
    {
     "data": {
      "text/plain": [
       "[{'Name': 'Adarsh Kumar',\n",
       "  'Headline': 'B.Tech (CSE-H) (AI&ML) (IBM) at CHANDIGARH UNIVERSITY',\n",
       "  'Location': 'Chandigarh, India',\n",
       "  'Public Profile URL': 'https://www.linkedin.com/in/adarsh-kr-kumar?miniProfileUrn=urn%3Ali%3Afs_miniProfile%3AACoAAEZzxAcBwkYbgOwh8qsTchnBYuBGZOVKvjw'},\n",
       " {'Name': 'Adarsh Kumar',\n",
       "  'Headline': \"IIT BHU '26 | Competitive Programming | Software Development\",\n",
       "  'Location': 'Varanasi',\n",
       "  'Public Profile URL': 'https://www.linkedin.com/in/adarsh--?miniProfileUrn=urn%3Ali%3Afs_miniProfile%3AACoAAD1-uKABrDLSbZ2b7B34G6ypF-b5Yk9na34'},\n",
       " {'Name': 'Adarsh Kumar',\n",
       "  'Headline': 'Upcoming Intern @Oracle Netsuite || Training and Placement Cell Representative, IIT BHU || Competitive Programming',\n",
       "  'Location': 'Kolkata',\n",
       "  'Public Profile URL': 'https://www.linkedin.com/in/adarsh-kumar-2415b4242?miniProfileUrn=urn%3Ali%3Afs_miniProfile%3AACoAADw-s1EBKpjK2wiuEsb31P0rk24o-XiwmKk'},\n",
       " {'Name': 'Adarsh Kumar',\n",
       "  'Headline': 'Data Engineer 2 @Accordion',\n",
       "  'Location': 'Patna',\n",
       "  'Public Profile URL': 'https://www.linkedin.com/in/adarsh-kumar-a23408230?miniProfileUrn=urn%3Ali%3Afs_miniProfile%3AACoAADm5q7sBuIPys10SkDaQBahOMKBJ-RCQHqM'},\n",
       " {'Name': 'Adarsh Kumar',\n",
       "  'Headline': 'B.Tech (CSE-H) (AI&ML) (IBM) at CHANDIGARH UNIVERSITY',\n",
       "  'Location': 'Chandigarh, India',\n",
       "  'Public Profile URL': 'https://www.linkedin.com/in/adarsh-kr-kumar?miniProfileUrn=urn%3Ali%3Afs_miniProfile%3AACoAAEZzxAcBwkYbgOwh8qsTchnBYuBGZOVKvjw'},\n",
       " {'Name': 'Adarsh Kumar',\n",
       "  'Headline': \"IIT BHU '26 | Competitive Programming | Software Development\",\n",
       "  'Location': 'Varanasi',\n",
       "  'Public Profile URL': 'https://www.linkedin.com/in/adarsh--?miniProfileUrn=urn%3Ali%3Afs_miniProfile%3AACoAAD1-uKABrDLSbZ2b7B34G6ypF-b5Yk9na34'},\n",
       " {'Name': 'Adarsh Kumar',\n",
       "  'Headline': 'Upcoming Intern @Oracle Netsuite || Training and Placement Cell Representative, IIT BHU || Competitive Programming',\n",
       "  'Location': 'Kolkata',\n",
       "  'Public Profile URL': 'https://www.linkedin.com/in/adarsh-kumar-2415b4242?miniProfileUrn=urn%3Ali%3Afs_miniProfile%3AACoAADw-s1EBKpjK2wiuEsb31P0rk24o-XiwmKk'},\n",
       " {'Name': 'Adarsh Kumar',\n",
       "  'Headline': 'Data Engineer 2 @Accordion',\n",
       "  'Location': 'Patna',\n",
       "  'Public Profile URL': 'https://www.linkedin.com/in/adarsh-kumar-a23408230?miniProfileUrn=urn%3Ali%3Afs_miniProfile%3AACoAADm5q7sBuIPys10SkDaQBahOMKBJ-RCQHqM'},\n",
       " {'Name': 'Adarsh Kumar Gupta',\n",
       "  'Headline': 'Student at Indian Institute of Technology (Banaras Hindu University), Varanasi',\n",
       "  'Location': 'Varanasi',\n",
       "  'Public Profile URL': 'https://www.linkedin.com/in/adarsh-kumar-gupta-b37621255?miniProfileUrn=urn%3Ali%3Afs_miniProfile%3AACoAAD7rBxsBvx7Omonx14bdeMGIuvcPdIFVl28'},\n",
       " {'Name': 'Adarsh Kumar',\n",
       "  'Headline': 'SDE',\n",
       "  'Location': 'Varanasi',\n",
       "  'Public Profile URL': 'https://www.linkedin.com/in/akr005?miniProfileUrn=urn%3Ali%3Afs_miniProfile%3AACoAAD39-zAB8d2rn1CSLExUudOrqQhLF9UcRcs'},\n",
       " {'Name': 'Adarsh Kumar',\n",
       "  'Headline': 'Senior AI Engineer @ HL Klemove | ADAS | Healthcare AI | IIT(BHU)',\n",
       "  'Location': 'Thane',\n",
       "  'Public Profile URL': 'https://www.linkedin.com/in/kumaradarsh007?miniProfileUrn=urn%3Ali%3Afs_miniProfile%3AACoAACPZ2K8BjZZ4ZYWghxA9xKocoJrMRiXEsjI'},\n",
       " {'Name': 'Adarsh Kumar',\n",
       "  'Headline': 'M. Tech IIT Kanpur || PhD IIT (BHU) Varanasi || Materials || Metallurgy || Manufacturing || Welding',\n",
       "  'Location': 'Uttar Pradesh, India',\n",
       "  'Public Profile URL': 'https://www.linkedin.com/in/adarsh-kumar-5b346a67?miniProfileUrn=urn%3Ali%3Afs_miniProfile%3AACoAAA4gzNcBIedO7gBsZbvf4HMIUaF3zSSbXe4'},\n",
       " {'Name': 'Adarsh Kumar',\n",
       "  'Headline': \"Sr. Quant Research @ WorldQuant India CSE @ IIT Bombay '23\",\n",
       "  'Location': 'Mumbai',\n",
       "  'Public Profile URL': 'https://www.linkedin.com/in/adarsh-kumar-b480b9206?miniProfileUrn=urn%3Ali%3Afs_miniProfile%3AACoAADRXHigBpKyQ4Bf4B5P3F-Im2p_-kADTe9Y'},\n",
       " {'Name': 'Adarsh Kumar',\n",
       "  'Headline': '|Senior @ IIT Jodhpur | |Ex- Ai Intern@cosmic365.ai |Ex - Data analyst intern@Lazyapply| | Aspiring Data Scientist | Machine Learning & AI Enthusiast | HTML / CSS / Javascript | Python| SQL |',\n",
       "  'Location': 'Jodhpur',\n",
       "  'Public Profile URL': 'https://www.linkedin.com/in/adarsh-kumar-756771226?miniProfileUrn=urn%3Ali%3Afs_miniProfile%3AACoAADi1tfIBVAmiuLfA4tTqdqGbxGwovsMmuzs'}]"
      ]
     },
     "execution_count": 10,
     "metadata": {},
     "output_type": "execute_result"
    }
   ],
   "source": [
    "# Loop through the profiles and extract details\n",
    "for i in range(1, 11):  # Dynamically loop through all profile 'li' elements\n",
    "    profile_info = {}\n",
    "    \n",
    "    # Construct dynamic XPaths for name, headline, location, and profile URL\n",
    "    name_xpath = f\"/html/body/div[6]/div[3]/div[2]/div/div[1]/main/div/div/div[2]/div/ul/li[{i}]/div/div/div/div[2]/div[1]/div[1]/div/span[1]/span/a/span/span[1]\"\n",
    "    headline_xpath = f\"/html/body/div[6]/div[3]/div[2]/div/div[1]/main/div/div/div[2]/div/ul/li[{i}]/div/div/div/div[2]/div[1]/div[2]\"\n",
    "    location_path = f\"/html/body/div[6]/div[3]/div[2]/div/div[1]/main/div/div/div[2]/div/ul/li[{i}]/div/div/div/div[2]/div[1]/div[3]\"\n",
    "    url = f\"/html/body/div[6]/div[3]/div[2]/div/div[1]/main/div/div/div[2]/div/ul/li[{i}]/div/div/div/div[2]/div[1]/div[1]/div/span[1]/span/a\"\n",
    "    \n",
    "    # ==========================================\n",
    "    # Extract Name\n",
    "    # ==========================================\n",
    "    try:\n",
    "        name_element = driver.find_element(By.XPATH, name_xpath)\n",
    "        profile_info['Name'] = name_element.text.strip()\n",
    "    except NoSuchElementException:\n",
    "        profile_info['Name'] = 'N/A'\n",
    "    \n",
    "    # ==========================================\n",
    "    # Extract Headline\n",
    "    # ==========================================\n",
    "    try:\n",
    "        headline_element = driver.find_element(By.XPATH, headline_xpath)\n",
    "        profile_info['Headline'] = headline_element.text.strip()\n",
    "    except NoSuchElementException:\n",
    "        profile_info['Headline'] = 'N/A'\n",
    "    \n",
    "    # ==========================================\n",
    "    # Extract Location\n",
    "    # ==========================================\n",
    "    try:\n",
    "        location_element = driver.find_element(By.XPATH, location_path)\n",
    "        profile_info['Location'] = location_element.text.strip()\n",
    "    except NoSuchElementException:\n",
    "        profile_info['Location'] = 'N/A'\n",
    "    \n",
    "    # ==========================================\n",
    "    # Extract Profile URL\n",
    "    # ==========================================\n",
    "    try:\n",
    "        profile_url = driver.find_element(By.XPATH, url).get_attribute('href')\n",
    "        profile_info['Public Profile URL'] = profile_url\n",
    "    except NoSuchElementException:\n",
    "        profile_info['Public Profile URL'] = 'N/A'\n",
    "            \n",
    "    # Append the profile info to the list\n",
    "    profile_data.append(profile_info)\n",
    "\n",
    "# Output the extracted profile data\n",
    "profile_data\n"
   ]
  },
  {
   "cell_type": "code",
   "execution_count": 11,
   "metadata": {},
   "outputs": [
    {
     "name": "stdout",
     "output_type": "stream",
     "text": [
      "CSV file 'linkedin_user_data.csv' saved successfully.\n"
     ]
    }
   ],
   "source": [
    "import csv\n",
    "\n",
    "# Save data to a CSV file\n",
    "with open('linkedin_user_data.csv', mode='w', newline='', encoding='utf-8') as file:\n",
    "    writer = csv.DictWriter(file, fieldnames=['Name', 'Headline', 'Location', 'Public Profile URL'])\n",
    "    writer.writeheader()\n",
    "    writer.writerows(profile_data)\n",
    "\n",
    "# Confirm the file was saved successfully\n",
    "print(\"CSV file 'linkedin_user_data.csv' saved successfully.\")\n",
    "\n",
    "\n",
    "# Close the browser and end the WebDriver session\n",
    "driver.quit()"
   ]
  },
  {
   "cell_type": "code",
   "execution_count": null,
   "metadata": {},
   "outputs": [],
   "source": []
  }
 ],
 "metadata": {
  "kernelspec": {
   "display_name": "Python 3",
   "language": "python",
   "name": "python3"
  },
  "language_info": {
   "codemirror_mode": {
    "name": "ipython",
    "version": 3
   },
   "file_extension": ".py",
   "mimetype": "text/x-python",
   "name": "python",
   "nbconvert_exporter": "python",
   "pygments_lexer": "ipython3",
   "version": "3.12.1"
  }
 },
 "nbformat": 4,
 "nbformat_minor": 2
}
