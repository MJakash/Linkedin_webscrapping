{
 "cells": [
  {
   "cell_type": "markdown",
   "metadata": {},
   "source": [
    "## Linkedin Profile Scraper"
   ]
  },
  {
   "cell_type": "code",
   "execution_count": 1,
   "metadata": {},
   "outputs": [],
   "source": [
    "# Import the warnings module and suppress any warnings \n",
    "import warnings\n",
    "warnings.filterwarnings(\"ignore\")"
   ]
  },
  {
   "cell_type": "markdown",
   "metadata": {},
   "source": [
    "###  Import Necessary Libraries"
   ]
  },
  {
   "cell_type": "code",
   "execution_count": 2,
   "metadata": {},
   "outputs": [
    {
     "data": {
      "text/plain": [
       "True"
      ]
     },
     "execution_count": 2,
     "metadata": {},
     "output_type": "execute_result"
    }
   ],
   "source": [
    "import os #For handling environment variables\n",
    "from bs4 import BeautifulSoup #For parsing and extracting HTML content (if needed)\n",
    "from selenium import webdriver #For browser automation\n",
    "from selenium.webdriver.common.by import By #For locating elements on a web page\n",
    "from time import sleep #For adding delays\n",
    "from dotenv import load_dotenv #For securely loading environment variables\n",
    "from selenium.webdriver.common.action_chains import ActionChains #For advanced browser interactions\n",
    "from selenium.common.exceptions import NoSuchElementException #For handling exceptions\n",
    "# Load sensitive information like email and password from a .env file\n",
    "load_dotenv()"
   ]
  },
  {
   "cell_type": "markdown",
   "metadata": {},
   "source": [
    "### Load Environment Variables"
   ]
  },
  {
   "cell_type": "code",
   "execution_count": null,
   "metadata": {},
   "outputs": [],
   "source": [
    "# Set up environment variables for email and password using dotenv\n",
    "os.environ['EMAIL'], os.environ['PASSWORD']"
   ]
  },
  {
   "cell_type": "markdown",
   "metadata": {},
   "source": [
    "### Initialize the Browser Driver"
   ]
  },
  {
   "cell_type": "code",
   "execution_count": 4,
   "metadata": {},
   "outputs": [],
   "source": [
    "# Set up the Chrome WebDriver to automate browser actions\n",
    "driver = webdriver.Chrome()"
   ]
  },
  {
   "cell_type": "markdown",
   "metadata": {},
   "source": [
    "### Open LinkedIn Login Page"
   ]
  },
  {
   "cell_type": "code",
   "execution_count": 5,
   "metadata": {},
   "outputs": [],
   "source": [
    "# Navigate to LinkedIn's login page and wait for the page to load\n",
    "driver.get('https://www.linkedin.com/login')\n",
    "sleep(2)"
   ]
  },
  {
   "cell_type": "markdown",
   "metadata": {},
   "source": [
    "### Login to LinkedIn"
   ]
  },
  {
   "cell_type": "code",
   "execution_count": 6,
   "metadata": {},
   "outputs": [],
   "source": [
    "# Find and fill the email and password fields, then submit the login form\n",
    "email = driver.find_element(By.ID,'username')\n",
    "email.send_keys(os.environ['EMAIL'])\n",
    "\n",
    "password = driver.find_element(By.ID,'password')\n",
    "password.send_keys(os.environ['PASSWORD'])\n",
    "\n",
    "# Submit the login form\n",
    "password.submit()"
   ]
  },
  {
   "cell_type": "markdown",
   "metadata": {},
   "source": [
    "### Take Input for Search Query"
   ]
  },
  {
   "cell_type": "code",
   "execution_count": 7,
   "metadata": {},
   "outputs": [],
   "source": [
    "# Take the input for search query (first name and last name)\n",
    "first_name = input(\"Enter first name: \")\n",
    "last_name = input(\"Enter last name: \")\n",
    "\n"
   ]
  },
  {
   "cell_type": "markdown",
   "metadata": {},
   "source": [
    "### Navigate to LinkedIn Search Page"
   ]
  },
  {
   "cell_type": "code",
   "execution_count": 8,
   "metadata": {},
   "outputs": [],
   "source": [
    "# Navigate to LinkedIn search page\n",
    "search_url = f\"https://www.linkedin.com/search/results/people/?keywords={first_name}%20{last_name}\"\n",
    "driver.get(search_url)\n",
    "sleep(3)\n"
   ]
  },
  {
   "cell_type": "markdown",
   "metadata": {},
   "source": [
    "### Extract Profile Data"
   ]
  },
  {
   "cell_type": "code",
   "execution_count": 9,
   "metadata": {},
   "outputs": [],
   "source": [
    "# Initialize an empty list to store extracted profile data\n",
    "profile_info = []\n",
    "# Identify and loop through search result profiles\n",
    "profiles = driver.find_elements(By.XPATH, \".//ul[contains(@class, 'list-style-none')]/li\")  # Target 'li' elements"
   ]
  },
  {
   "cell_type": "markdown",
   "metadata": {},
   "source": [
    "### Sample\n",
    "##### If giving N/A, Rerun both cells below again"
   ]
  },
  {
   "cell_type": "code",
   "execution_count": 10,
   "metadata": {},
   "outputs": [
    {
     "name": "stdout",
     "output_type": "stream",
     "text": [
      "{'name': 'N/A'}\n"
     ]
    }
   ],
   "source": [
    "profil = {}  # Initialize as a dictionary\n",
    "\n",
    "try:\n",
    "    # Locate the profile link\n",
    "    profile_link = driver.find_element(\n",
    "        By.XPATH,\n",
    "        f\"//ul/li[1]//a[contains(@href, '/in/')]\"\n",
    "    )\n",
    "\n",
    "    # Scroll into view and click the link\n",
    "    ActionChains(driver).move_to_element(profile_link).perform()\n",
    "    profile_link.click()\n",
    "\n",
    "    # Extract the page source again after navigating\n",
    "    page_source = driver.page_source\n",
    "    soup = BeautifulSoup(page_source, 'lxml')\n",
    "\n",
    "    # ==========================================\n",
    "    # Extract Name\n",
    "    # ==========================================\n",
    "    name = soup.find('h1', {'class': 'tltAylKhFAgBRttOJxuNkBYpMngWHBDlKY inline t-24 v-align-middle break-words'})\n",
    "    profil['name'] = name.get_text().strip() if name else 'N/A'\n",
    "        \n",
    "except Exception as e:\n",
    "    print(f\"Error occurred: {e}\")\n",
    "\n",
    "sleep(3)\n",
    "driver.back()\n",
    "sleep(3)\n",
    "\n",
    "print(profil)  # Print profile data for each iteration\n"
   ]
  },
  {
   "cell_type": "markdown",
   "metadata": {},
   "source": [
    "### Loop Through Profiles and Extract Details"
   ]
  },
  {
   "cell_type": "code",
   "execution_count": 14,
   "metadata": {},
   "outputs": [
    {
     "name": "stdout",
     "output_type": "stream",
     "text": [
      "[{'name': 'Jenish Kumar', 'url': 'https://www.linkedin.com/in/jenish-kumar-b1427514/overlay/about-this-profile/', 'headline': 'Strategic HR, Culture & Workplace Transformation, Change Management & Talent Management', 'location': 'Pune, Maharashtra, India', 'about': 'Proven track record in driving strategic HR initiatives to realize bottom line results and build organizational capabilities in pursuit of organizational objectivesProven track record in driving strategic HR initiatives to realize bottom line results and build organizational capabilities in pursuit of organizational objectives', 'education': [{'college': 'MBA in Human Resource Management , University of Wales, UK', 'degree': 'N/A', 'duration': 'N/A'}]}]\n",
      "[{'name': 'Jenish Kumar', 'url': 'https://www.linkedin.com/in/jenish-kumar-b1427514/overlay/about-this-profile/', 'headline': 'Strategic HR, Culture & Workplace Transformation, Change Management & Talent Management', 'location': 'Pune, Maharashtra, India', 'about': 'Proven track record in driving strategic HR initiatives to realize bottom line results and build organizational capabilities in pursuit of organizational objectivesProven track record in driving strategic HR initiatives to realize bottom line results and build organizational capabilities in pursuit of organizational objectives', 'education': [{'college': 'MBA in Human Resource Management , University of Wales, UK', 'degree': 'N/A', 'duration': 'N/A'}]}, {'name': 'Jenish Kumar', 'url': 'https://www.linkedin.com/in/jenish-kumar-9913235/overlay/about-this-profile/', 'headline': 'Sr. Manager - HR at Giesecke & Devrient', 'location': 'Pune, Maharashtra, India', 'about': 'No About section found', 'education': [{'college': 'University of Wales, U.K', 'degree': 'Master of Business Administration (MBA), Human Resources Management', 'duration': '2003 - 2005'}]}]\n",
      "[{'name': 'Jenish Kumar', 'url': 'https://www.linkedin.com/in/jenish-kumar-b1427514/overlay/about-this-profile/', 'headline': 'Strategic HR, Culture & Workplace Transformation, Change Management & Talent Management', 'location': 'Pune, Maharashtra, India', 'about': 'Proven track record in driving strategic HR initiatives to realize bottom line results and build organizational capabilities in pursuit of organizational objectivesProven track record in driving strategic HR initiatives to realize bottom line results and build organizational capabilities in pursuit of organizational objectives', 'education': [{'college': 'MBA in Human Resource Management , University of Wales, UK', 'degree': 'N/A', 'duration': 'N/A'}]}, {'name': 'Jenish Kumar', 'url': 'https://www.linkedin.com/in/jenish-kumar-9913235/overlay/about-this-profile/', 'headline': 'Sr. Manager - HR at Giesecke & Devrient', 'location': 'Pune, Maharashtra, India', 'about': 'No About section found', 'education': [{'college': 'University of Wales, U.K', 'degree': 'Master of Business Administration (MBA), Human Resources Management', 'duration': '2003 - 2005'}]}, {'name': 'Jenish Kumar', 'url': 'https://www.linkedin.com/in/jenish-kumar-b9a729222/overlay/about-this-profile/', 'headline': 'Student of Computer Science and Engineering.', 'location': 'Bihar, Bihar, India', 'about': 'Final year student of Computer Science and Engineering.Final year student of Computer Science and Engineering.', 'education': [{'college': 'Techno India College Of Technology', 'degree': 'Bachelor of Technology - BTech, Computer Software Engineering', 'duration': 'May 2021 - May 2025'}]}]\n",
      "[{'name': 'Jenish Kumar', 'url': 'https://www.linkedin.com/in/jenish-kumar-b1427514/overlay/about-this-profile/', 'headline': 'Strategic HR, Culture & Workplace Transformation, Change Management & Talent Management', 'location': 'Pune, Maharashtra, India', 'about': 'Proven track record in driving strategic HR initiatives to realize bottom line results and build organizational capabilities in pursuit of organizational objectivesProven track record in driving strategic HR initiatives to realize bottom line results and build organizational capabilities in pursuit of organizational objectives', 'education': [{'college': 'MBA in Human Resource Management , University of Wales, UK', 'degree': 'N/A', 'duration': 'N/A'}]}, {'name': 'Jenish Kumar', 'url': 'https://www.linkedin.com/in/jenish-kumar-9913235/overlay/about-this-profile/', 'headline': 'Sr. Manager - HR at Giesecke & Devrient', 'location': 'Pune, Maharashtra, India', 'about': 'No About section found', 'education': [{'college': 'University of Wales, U.K', 'degree': 'Master of Business Administration (MBA), Human Resources Management', 'duration': '2003 - 2005'}]}, {'name': 'Jenish Kumar', 'url': 'https://www.linkedin.com/in/jenish-kumar-b9a729222/overlay/about-this-profile/', 'headline': 'Student of Computer Science and Engineering.', 'location': 'Bihar, Bihar, India', 'about': 'Final year student of Computer Science and Engineering.Final year student of Computer Science and Engineering.', 'education': [{'college': 'Techno India College Of Technology', 'degree': 'Bachelor of Technology - BTech, Computer Software Engineering', 'duration': 'May 2021 - May 2025'}]}, {'name': 'Jenish Kumar A', 'url': 'https://www.linkedin.com/in/jenish-kumar-a-72ab02106/overlay/about-this-profile/', 'headline': 'Senior Software Engineer | Java 17 Certified |Spring Boot|Microservice| AWS', 'location': 'Kanyakumari district, India', 'about': \"Experienced software engineer proficient in developing robust Travel Management and order management applications using GraphQL and REST controllers. Skilled in handling bulk user information efficiently through bulk loading, storing application users' files in S3 Bucket, and managing user data in MongoDB and Postgres databases. Proficient in deploying applications in EKS (Elastic Kubernetes Service) and monitoring their status using DataDog and Kibana. Proven track record of delivering high-quality, scalable solutions to meet business objectives.Experienced software engineer proficient in developing robust Travel Management and order management applications using GraphQL and REST controllers. Skilled in handling bulk user information efficiently through bulk loading, storing application users' files in S3 Bucket, and managing user data in MongoDB and Postgres databases. Proficient in deploying applications in EKS (Elastic Kubernetes Service) and monitoring their status using DataDog and Kibana. Proven track record of delivering high-quality, scalable solutions to meet business objectives.\", 'education': [{'college': 'Tagore Engineering College', 'degree': 'Bachelor of Engineering - BE, Electrical, Electronics and Communications Engineering', 'duration': '2012 - 2016'}, {'college': 'Hacker memorial Hr Sec school,Neyyoor,KanyaKumari-Dist', 'degree': '2006 - 2012', 'duration': 'Grade: 81.6%'}]}]\n",
      "[{'name': 'Jenish Kumar', 'url': 'https://www.linkedin.com/in/jenish-kumar-b1427514/overlay/about-this-profile/', 'headline': 'Strategic HR, Culture & Workplace Transformation, Change Management & Talent Management', 'location': 'Pune, Maharashtra, India', 'about': 'Proven track record in driving strategic HR initiatives to realize bottom line results and build organizational capabilities in pursuit of organizational objectivesProven track record in driving strategic HR initiatives to realize bottom line results and build organizational capabilities in pursuit of organizational objectives', 'education': [{'college': 'MBA in Human Resource Management , University of Wales, UK', 'degree': 'N/A', 'duration': 'N/A'}]}, {'name': 'Jenish Kumar', 'url': 'https://www.linkedin.com/in/jenish-kumar-9913235/overlay/about-this-profile/', 'headline': 'Sr. Manager - HR at Giesecke & Devrient', 'location': 'Pune, Maharashtra, India', 'about': 'No About section found', 'education': [{'college': 'University of Wales, U.K', 'degree': 'Master of Business Administration (MBA), Human Resources Management', 'duration': '2003 - 2005'}]}, {'name': 'Jenish Kumar', 'url': 'https://www.linkedin.com/in/jenish-kumar-b9a729222/overlay/about-this-profile/', 'headline': 'Student of Computer Science and Engineering.', 'location': 'Bihar, Bihar, India', 'about': 'Final year student of Computer Science and Engineering.Final year student of Computer Science and Engineering.', 'education': [{'college': 'Techno India College Of Technology', 'degree': 'Bachelor of Technology - BTech, Computer Software Engineering', 'duration': 'May 2021 - May 2025'}]}, {'name': 'Jenish Kumar A', 'url': 'https://www.linkedin.com/in/jenish-kumar-a-72ab02106/overlay/about-this-profile/', 'headline': 'Senior Software Engineer | Java 17 Certified |Spring Boot|Microservice| AWS', 'location': 'Kanyakumari district, India', 'about': \"Experienced software engineer proficient in developing robust Travel Management and order management applications using GraphQL and REST controllers. Skilled in handling bulk user information efficiently through bulk loading, storing application users' files in S3 Bucket, and managing user data in MongoDB and Postgres databases. Proficient in deploying applications in EKS (Elastic Kubernetes Service) and monitoring their status using DataDog and Kibana. Proven track record of delivering high-quality, scalable solutions to meet business objectives.Experienced software engineer proficient in developing robust Travel Management and order management applications using GraphQL and REST controllers. Skilled in handling bulk user information efficiently through bulk loading, storing application users' files in S3 Bucket, and managing user data in MongoDB and Postgres databases. Proficient in deploying applications in EKS (Elastic Kubernetes Service) and monitoring their status using DataDog and Kibana. Proven track record of delivering high-quality, scalable solutions to meet business objectives.\", 'education': [{'college': 'Tagore Engineering College', 'degree': 'Bachelor of Engineering - BE, Electrical, Electronics and Communications Engineering', 'duration': '2012 - 2016'}, {'college': 'Hacker memorial Hr Sec school,Neyyoor,KanyaKumari-Dist', 'degree': '2006 - 2012', 'duration': 'Grade: 81.6%'}]}, {'name': 'Jenish Kumar', 'url': 'https://www.linkedin.com/in/jenish-kumar-72044a296/overlay/about-this-profile/', 'headline': 'Electrical Engineer at Electrical Components International', 'location': 'Oddanchattram, Tamil Nadu, India', 'about': 'No About section found', 'education': []}]\n"
     ]
    }
   ],
   "source": [
    "# Initialize a list to store all profile data\n",
    "all_profiles = []\n",
    "\n",
    "# Get the page source\n",
    "page_source = driver.page_source\n",
    "soup = BeautifulSoup(page_source, 'lxml')\n",
    "\n",
    "for list in range(1, 6): # Extract data for up to the first 5 profiles (or adjust the loop as needed)\n",
    "    profile_data = {}  # Initialize as a dictionary\n",
    "\n",
    "    try:\n",
    "        # Locate the profile link\n",
    "        profile_link = driver.find_element(\n",
    "            By.XPATH,\n",
    "            f\"//ul/li[{list}]//a[contains(@href, '/in/')]\"\n",
    "        )\n",
    "\n",
    "        # Scroll into view and click the link\n",
    "        ActionChains(driver).move_to_element(profile_link).perform()\n",
    "        profile_link.click()\n",
    "\n",
    "        # Extract the page source again after navigating\n",
    "        page_source = driver.page_source\n",
    "        soup = BeautifulSoup(page_source, 'lxml')\n",
    "\n",
    "        # ==========================================\n",
    "        # Extract Name\n",
    "        # ==========================================\n",
    "        name = soup.find('h1', {'class': 'tltAylKhFAgBRttOJxuNkBYpMngWHBDlKY inline t-24 v-align-middle break-words'})\n",
    "        profile_data['name'] = name.get_text().strip() if name else 'N/A'\n",
    "\n",
    "        # ==========================================\n",
    "        # Extract Profile URL\n",
    "        # ==========================================\n",
    "        url_element = soup.find('a', {'class': 'ember-view SFhPYJROBTIphhHbqiXhFZLdcoPAUark'})\n",
    "        if url_element:\n",
    "            url = url_element['href']\n",
    "            full_url = f\"https://www.linkedin.com{url}\" if url.startswith(\"/\") else url\n",
    "        else:\n",
    "            full_url = 'N/A'\n",
    "        profile_data['url'] = full_url\n",
    "\n",
    "        # ==========================================\n",
    "        # Extract Headline\n",
    "        # ==========================================\n",
    "        headline = soup.find('div', {'class': 'text-body-medium break-words'})\n",
    "        profile_data['headline'] = headline.get_text().strip() if headline else 'N/A'\n",
    "\n",
    "        # ==========================================\n",
    "        # Extract Location\n",
    "        # ==========================================\n",
    "        location = soup.find('span', {'class': 'text-body-small inline t-black--light break-words'})\n",
    "        profile_data['location'] = location.get_text().strip() if location else 'N/A'\n",
    "\n",
    "        # ==========================================\n",
    "        # Extract About\n",
    "        # ==========================================\n",
    "        \n",
    "        # try:\n",
    "        #     # Try clicking the \"See More\" button if it exists\n",
    "        #     see_more_button = driver.find_element(By.XPATH, \"/html/body/div[6]/div[3]/div/div/div[2]/div/div/main/section[2]/div[3]/div/div/div/span[3]/button\")\n",
    "        #     ActionChains(driver).move_to_element(see_more_button).perform()\n",
    "        #     see_more_button.click()\n",
    "        # except NoSuchElementException:\n",
    "        #     print(\"See More button not found. Proceeding with available content.\")\n",
    "\n",
    "        about = soup.find('div', {'class': 'display-flex ph5 pv3'})\n",
    "        profile_data['about'] = about.get_text().strip() if about else \"No About section found\"\n",
    "\n",
    "        # ==========================================\n",
    "        # Extract Education\n",
    "        # ==========================================\n",
    "        \n",
    "        # Locate all sections in the page containing profile details\n",
    "        sections = soup.find_all('section', {'class': 'artdeco-card pv-profile-card break-words mt2'})\n",
    "        \n",
    "        # Initialize 'educations' as None and loop through sections to locate the education section\n",
    "        educations = None\n",
    "        for section in sections:\n",
    "            if section.find('div', {'id': 'education'}):\n",
    "                educations = section\n",
    "                break  # Stop once the education section is found\n",
    "\n",
    "        if educations:\n",
    "            # Find all individual education items within the education section\n",
    "            items = educations.find_all(\n",
    "                'div',\n",
    "                {'class': 'MLWKRCqgqPIIoWDJwvNDfYgezWKkGUDZeHwo ZTfGgnxuIQmWwjZNmBsQXDyQiCdTxMAxaTMA kJpxNUwEyrItimxpmdlHFJCfPhhUDuJIks'}\n",
    "            )\n",
    "\n",
    "            def get_edu(item):\n",
    "                \"\"\"\n",
    "                Extracts college, degree, and duration from an education item.\n",
    "\n",
    "                Args:\n",
    "                    item (Tag): A BeautifulSoup tag containing education details.\n",
    "\n",
    "                Returns:\n",
    "                    dict: A dictionary with keys 'college', 'degree', and 'duration'.\n",
    "                \"\"\"\n",
    "                item_dict = {}\n",
    "                spans = item.find_all('span', {'class': 'visually-hidden'})\n",
    "                item_dict['college'] = spans[0].get_text().strip() if len(spans) > 0 else 'N/A'\n",
    "                item_dict['degree'] = spans[1].get_text().strip() if len(spans) > 1 else 'N/A'\n",
    "                item_dict['duration'] = spans[2].get_text().strip() if len(spans) > 2 else 'N/A'\n",
    "                return item_dict\n",
    "            \n",
    "            # Generate a list of dictionaries containing education details for each item\n",
    "            item_list = [get_edu(item) for item in items]\n",
    "            profile_data['education'] = item_list\n",
    "        else:\n",
    "            profile_data['education'] = []\n",
    "            \n",
    "        # Append this profile's data to the list of all profiles\n",
    "        all_profiles.append(profile_data)    \n",
    "\n",
    "    except Exception as e:\n",
    "        print(f\"Error occurred: {e}\")\n",
    "\n",
    "    sleep(15)\n",
    "    driver.back()\n",
    "    sleep(3)\n",
    "    \n",
    "    print(all_profiles)  # Print profile data for each iteration\n"
   ]
  },
  {
   "cell_type": "markdown",
   "metadata": {},
   "source": [
    "### Save Data to CSV File"
   ]
  },
  {
   "cell_type": "code",
   "execution_count": 15,
   "metadata": {},
   "outputs": [
    {
     "name": "stdout",
     "output_type": "stream",
     "text": [
      "Data saved to linkedin_profiles.csv\n"
     ]
    }
   ],
   "source": [
    "import csv\n",
    "\n",
    "# Save all profiles data to a CSV file\n",
    "csv_file = \"linkedin_profiles.csv\"\n",
    "\n",
    "with open(csv_file, mode=\"w\", newline=\"\", encoding=\"utf-8\") as file:\n",
    "    writer = csv.DictWriter(file, fieldnames=['name', 'url', 'headline', 'location', 'about', 'education'])\n",
    "    writer.writeheader()\n",
    "\n",
    "    for profile in all_profiles:\n",
    "        # Flatten education data as a string for CSV\n",
    "        profile['education'] = '; '.join(\n",
    "            [f\"{edu['college']} ({edu['degree']} - {edu['duration']})\" for edu in profile['education']]\n",
    "        )\n",
    "        writer.writerow(profile)\n",
    "        \n",
    "# Confirm the file was saved successfully\n",
    "print(f\"Data saved to {csv_file}\")"
   ]
  },
  {
   "cell_type": "markdown",
   "metadata": {},
   "source": [
    "### Close the Browser"
   ]
  },
  {
   "cell_type": "code",
   "execution_count": 16,
   "metadata": {},
   "outputs": [],
   "source": [
    "# Close the browser and end the WebDriver session\n",
    "driver.back()"
   ]
  },
  {
   "cell_type": "code",
   "execution_count": null,
   "metadata": {},
   "outputs": [],
   "source": []
  }
 ],
 "metadata": {
  "kernelspec": {
   "display_name": "Python 3",
   "language": "python",
   "name": "python3"
  },
  "language_info": {
   "codemirror_mode": {
    "name": "ipython",
    "version": 3
   },
   "file_extension": ".py",
   "mimetype": "text/x-python",
   "name": "python",
   "nbconvert_exporter": "python",
   "pygments_lexer": "ipython3",
   "version": "3.12.1"
  }
 },
 "nbformat": 4,
 "nbformat_minor": 2
}
